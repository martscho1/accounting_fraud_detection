{
 "cells": [
  {
   "cell_type": "markdown",
   "metadata": {},
   "source": [
    "# Accounting fraud detection using Benford's law and other patterns of interest"
   ]
  },
  {
   "cell_type": "markdown",
   "metadata": {},
   "source": [
    "In this notebook, I will show how the Python ecosystem can be used for accounting fraud detection using Benford's law and other patterns of interest."
   ]
  },
  {
   "cell_type": "code",
   "execution_count": 1,
   "metadata": {},
   "outputs": [],
   "source": [
    "# First import the necessary libraries\n",
    "import pandas as pd\n",
    "import numpy as np\n",
    "import matplotlib.pyplot as plt\n",
    "import scipy.stats as stats\n",
    "import math\n",
    "\n",
    "%matplotlib inline"
   ]
  },
  {
   "cell_type": "markdown",
   "metadata": {},
   "source": [
    "## Accounting fraud detection using patterns of interest"
   ]
  },
  {
   "cell_type": "markdown",
   "metadata": {},
   "source": [
    "Anomaly detection refers to the process of \"searching for and identifying examples of atypical data in a dataset. These nonconforming cases are often referred to as *anomalies* or *outliers*. This process is often used in analyzing financial transactions to identify potential fraudulent activities and to trigger investigations.\" (Kelleher and Tierney, 2018, *Data Science*, p. 239). Anomaly detection does not necessarily involve a single or a few cases in a dataset, but can also involve a larger subset or even the overall pattern of the data. A good example that is regularly used for accounting fraud detection is what is known as Benford's law. As explained on Wikipedia, \"Benford's law is an observation about the frequency distribution of leading digits in many real-life sets of numerical data. The law states that in many naturally occurring collections of numbers, the leading digit is likely to be small. In sets that obey the law, the number 1 appears as the leading significant digit about 30% of the time, while 9 appears as the leading significant digit less than 5% of the time. If the digits were distributed uniformly, they would each occur about 11.1% of the time. Benford's law also makes predictions about the distribution of second digits, third digits, digit combinations, and so on.\" More specifically, Benford's Law is based on base-10 logarithms that show the probability that the leading digit(s) of a number will be n (i.e., P(n)) can be calculated as __log10(1+1/n)__.\n",
    "\n",
    "In addition to Benford's law, which involves the frequency distribution of the first digit(s) in sets of numerical data, there can also be other patterns of interest, for example ones that involve the frequency distribution of the last digit(s) in sets of numerical data. That is, depending on the kind of operations and selling prices of a firm, one may have expections about the frequency distribution of the last digit(s) of (for instance) the sales revenue of individual transactions in a period. For example, given that a transaction at a supermarket typically involves multiple products and selling prices with different last digits, one may expect to find a uniform distribution when analyzing the frequency distribution of the last digit(s) of the sales revenue of all transactions in a period. On the other hand, given that a transaction at an electronics shop typically involves one product and selling prices with a 5 or 9 as the last digit, in such a firm, one may expect to find a different distribution when analyzing the frequency distribution of the last digit(s) of the sales revenue of all transactions in a period.\n",
    "\n",
    "Below, I first provide code that can be used to analyze whether the frequency distribution of a variable is consistent with Benford's law or not, where I will first focus on the first digit, and then on the first two digits, of the values of this variable. Next, I provide code that can be used to analyze whether the frequency distribution of a variable is consistent with a uniform distribution or not, where I will focus on the last digit of the values of this variable. The dataset that I will analyze contains the expenditures (amounts) by employees of a small firm during the year 2020, and is an adjusted version of a dataset taken from Westland (2020, *Audit Analytics: Data Science for the Accounting Profession*)."
   ]
  },
  {
   "cell_type": "markdown",
   "metadata": {},
   "source": [
    "## Importing and exploring the dataset"
   ]
  },
  {
   "cell_type": "code",
   "execution_count": null,
   "metadata": {},
   "outputs": [
    {
     "data": {
      "text/html": [
       "<div>\n",
       "<style scoped>\n",
       "    .dataframe tbody tr th:only-of-type {\n",
       "        vertical-align: middle;\n",
       "    }\n",
       "\n",
       "    .dataframe tbody tr th {\n",
       "        vertical-align: top;\n",
       "    }\n",
       "\n",
       "    .dataframe thead th {\n",
       "        text-align: right;\n",
       "    }\n",
       "</style>\n",
       "<table border=\"1\" class=\"dataframe\">\n",
       "  <thead>\n",
       "    <tr style=\"text-align: right;\">\n",
       "      <th></th>\n",
       "      <th>exp_no</th>\n",
       "      <th>employee_no</th>\n",
       "      <th>date</th>\n",
       "      <th>amount</th>\n",
       "    </tr>\n",
       "  </thead>\n",
       "  <tbody>\n",
       "    <tr>\n",
       "      <th>0</th>\n",
       "      <td>E00001</td>\n",
       "      <td>Emp0013</td>\n",
       "      <td>2020-01-03</td>\n",
       "      <td>586</td>\n",
       "    </tr>\n",
       "    <tr>\n",
       "      <th>1</th>\n",
       "      <td>E00002</td>\n",
       "      <td>Emp0016</td>\n",
       "      <td>2020-01-04</td>\n",
       "      <td>289</td>\n",
       "    </tr>\n",
       "    <tr>\n",
       "      <th>2</th>\n",
       "      <td>E00003</td>\n",
       "      <td>Emp0005</td>\n",
       "      <td>2020-01-05</td>\n",
       "      <td>73</td>\n",
       "    </tr>\n",
       "    <tr>\n",
       "      <th>3</th>\n",
       "      <td>E00004</td>\n",
       "      <td>Emp0004</td>\n",
       "      <td>2020-01-07</td>\n",
       "      <td>118</td>\n",
       "    </tr>\n",
       "    <tr>\n",
       "      <th>4</th>\n",
       "      <td>E00005</td>\n",
       "      <td>Emp0008</td>\n",
       "      <td>2020-01-07</td>\n",
       "      <td>97</td>\n",
       "    </tr>\n",
       "  </tbody>\n",
       "</table>\n",
       "</div>"
      ],
      "text/plain": [
       "   exp_no employee_no        date  amount\n",
       "0  E00001     Emp0013  2020-01-03     586\n",
       "1  E00002     Emp0016  2020-01-04     289\n",
       "2  E00003     Emp0005  2020-01-05      73\n",
       "3  E00004     Emp0004  2020-01-07     118\n",
       "4  E00005     Emp0008  2020-01-07      97"
      ]
     },
     "execution_count": 2,
     "metadata": {},
     "output_type": "execute_result"
    }
   ],
   "source": [
    "# Import the data\n",
    "df_exp = pd.read_csv('data/expenditures_adj.csv')\n",
    "df_exp.head()"
   ]
  },
  {
   "cell_type": "code",
   "execution_count": 3,
   "metadata": {},
   "outputs": [
    {
     "name": "stdout",
     "output_type": "stream",
     "text": [
      "<class 'pandas.core.frame.DataFrame'>\n",
      "RangeIndex: 331 entries, 0 to 330\n",
      "Data columns (total 4 columns):\n",
      " #   Column       Non-Null Count  Dtype \n",
      "---  ------       --------------  ----- \n",
      " 0   exp_no       331 non-null    object\n",
      " 1   employee_no  331 non-null    object\n",
      " 2   date         331 non-null    object\n",
      " 3   amount       331 non-null    int64 \n",
      "dtypes: int64(1), object(3)\n",
      "memory usage: 10.5+ KB\n"
     ]
    }
   ],
   "source": [
    "# Display general information\n",
    "df_exp.info()"
   ]
  },
  {
   "cell_type": "code",
   "execution_count": 4,
   "metadata": {},
   "outputs": [
    {
     "data": {
      "text/html": [
       "<div>\n",
       "<style scoped>\n",
       "    .dataframe tbody tr th:only-of-type {\n",
       "        vertical-align: middle;\n",
       "    }\n",
       "\n",
       "    .dataframe tbody tr th {\n",
       "        vertical-align: top;\n",
       "    }\n",
       "\n",
       "    .dataframe thead th {\n",
       "        text-align: right;\n",
       "    }\n",
       "</style>\n",
       "<table border=\"1\" class=\"dataframe\">\n",
       "  <thead>\n",
       "    <tr style=\"text-align: right;\">\n",
       "      <th></th>\n",
       "      <th>count</th>\n",
       "      <th>mean</th>\n",
       "      <th>std</th>\n",
       "      <th>min</th>\n",
       "      <th>25%</th>\n",
       "      <th>50%</th>\n",
       "      <th>75%</th>\n",
       "      <th>max</th>\n",
       "    </tr>\n",
       "  </thead>\n",
       "  <tbody>\n",
       "    <tr>\n",
       "      <th>amount</th>\n",
       "      <td>331.0</td>\n",
       "      <td>639.77</td>\n",
       "      <td>296.71</td>\n",
       "      <td>13.0</td>\n",
       "      <td>476.5</td>\n",
       "      <td>523.0</td>\n",
       "      <td>875.5</td>\n",
       "      <td>1602.0</td>\n",
       "    </tr>\n",
       "  </tbody>\n",
       "</table>\n",
       "</div>"
      ],
      "text/plain": [
       "        count    mean     std   min    25%    50%    75%     max\n",
       "amount  331.0  639.77  296.71  13.0  476.5  523.0  875.5  1602.0"
      ]
     },
     "execution_count": 4,
     "metadata": {},
     "output_type": "execute_result"
    }
   ],
   "source": [
    "# Display summary statistics\n",
    "df_exp.describe().round(2).T"
   ]
  },
  {
   "cell_type": "markdown",
   "metadata": {},
   "source": [
    "## Analyzing consistency with Benford's law (first digit)"
   ]
  },
  {
   "cell_type": "markdown",
   "metadata": {},
   "source": [
    "Let's now first analyze whether the frequency distribution of the 'amount' variable is consistent with Benford's law or not, when focussing on __the first digit__ of the values of this variable, both statistically and graphically."
   ]
  },
  {
   "cell_type": "code",
   "execution_count": null,
   "metadata": {},
   "outputs": [
    {
     "name": "stdout",
     "output_type": "stream",
     "text": [
      "[49, 13, 8, 95, 41, 20, 28, 32, 45]\n",
      "[100.0, 58.0, 41.0, 32.0, 26.0, 22.0, 19.0, 17.0, 15.0]\n",
      "one-sample Chi-Square test statistic = 297.85; p-value = <0.01\n"
     ]
    }
   ],
   "source": [
    "# Statistically analyze consistency with Benford's law (first digit)\n",
    "obs = df_exp['amount']\n",
    "\n",
    "#Create a list of the first two digits of the amounts\n",
    "def first_digit(num):\n",
    "    return int(str(num)[0])\n",
    "obs = [first_digit(n) for n in obs]\n",
    "\n",
    "#Create a dictionary with the observed frequencies (counts)\n",
    "dict1 = {x: 0 for x in range(1, 10)}\n",
    "for num in obs:\n",
    "    dict1[num] += 1\n",
    "\n",
    "#Calculate the number of observations and assign it to a variable\n",
    "n = len(obs)\n",
    "\n",
    "#Create a dictionary with the expected frequencies (also rounded)\n",
    "dict2 = {x: n * math.log10(1+(1/x)) for x in range(1, 10)}\n",
    "dict3 = {x: round(n * math.log10(1+(1/x)), 0) for x in range(1, 10)}\n",
    "\n",
    "#Convert the dictionaries to lists\n",
    "obs = list(dict1.values())\n",
    "exp = list(dict2.values())\n",
    "exp_rounded = list(dict3.values())\n",
    "x = list(dict2.keys())\n",
    "\n",
    "#Print the observed and expected frequencies\n",
    "print(obs)\n",
    "print(exp_rounded)\n",
    "\n",
    "#Test for differences using the one-sample Chi-Square test\n",
    "chi_sq = stats.chisquare(obs, f_exp=exp)\n",
    "chi_sq_stat = (chi_sq[0].round(3))\n",
    "chi_sq_pvalue = ((\"<0.01\" if chi_sq[1] < 0.01 else chi_sq[1].round(3)))\n",
    "print(f\"one-sample Chi-Square test statistic = {chi_sq_stat}; p-value = {chi_sq_pvalue}\")"
   ]
  },
  {
   "cell_type": "code",
   "execution_count": null,
   "metadata": {},
   "outputs": [
    {
     "data": {
      "image/png": "[encoded data removed]",
      "text/plain": [
       "<Figure size 432x288 with 1 Axes>"
      ]
     },
     "metadata": {
      "needs_background": "light"
     },
     "output_type": "display_data"
    }
   ],
   "source": [
    "# Graphically analyze consistency with Benford's law (first digit)\n",
    "plt.plot(x, obs, c='r', marker= '.')\n",
    "plt.plot(x, exp, c='b', marker= '.')\n",
    "plt.ylim(0, 120)\n",
    "plt.xlabel('First digit')\n",
    "plt.ylabel('Frequency')\n",
    "plt.title(\"Observed vs. expected frequencies (Benford's law)\")\n",
    "plt.show();"
   ]
  },
  {
   "cell_type": "markdown",
   "metadata": {},
   "source": [
    "Based on these analyses, one can conclude that the frequency distribution of the 'amount' variable is not consistent with Benford's law, when focussing on the first digit of the values of this variable. The one-sample Chi-Square test indicates that the frequency distribution of the amounts is statistically significantly different from the frequency distribution that is consistent with Benford's law. The graph illustrates the difference, showing that the two distributions in particular deviate for the value 4. These findings may trigger a further investigation of these expenditures."
   ]
  },
  {
   "cell_type": "markdown",
   "metadata": {},
   "source": [
    "## Analyzing consistency with Benford's law (first two digits)"
   ]
  },
  {
   "cell_type": "markdown",
   "metadata": {},
   "source": [
    "Let's now first analyze whether the frequency distribution of the 'amount' variable is consistent with Benford's law or not, when focussing on __the first two digits__ of the values of this variable, both statistically and graphically."
   ]
  },
  {
   "cell_type": "code",
   "execution_count": null,
   "metadata": {},
   "outputs": [
    {
     "name": "stdout",
     "output_type": "stream",
     "text": [
      "[22, 9, 6, 6, 1, 0, 1, 0, 4, 0, 2, 1, 2, 0, 0, 1, 5, 0, 2, 0, 2, 0, 0, 0, 0, 0, 1, 1, 1, 3, 0, 2, 0, 2, 3, 8, 16, 14, 23, 27, 17, 8, 5, 3, 2, 1, 1, 1, 3, 0, 2, 2, 1, 1, 2, 8, 0, 0, 3, 1, 3, 1, 2, 3, 2, 2, 2, 6, 4, 3, 3, 1, 5, 2, 1, 3, 6, 5, 2, 4, 4, 3, 3, 3, 6, 1, 6, 6, 6, 7]\n",
      "[14.0, 13.0, 12.0, 11.0, 10.0, 9.0, 9.0, 8.0, 8.0, 7.0, 7.0, 7.0, 6.0, 6.0, 6.0, 6.0, 5.0, 5.0, 5.0, 5.0, 5.0, 5.0, 4.0, 4.0, 4.0, 4.0, 4.0, 4.0, 4.0, 4.0, 4.0, 3.0, 3.0, 3.0, 3.0, 3.0, 3.0, 3.0, 3.0, 3.0, 3.0, 3.0, 3.0, 3.0, 3.0, 3.0, 3.0, 3.0, 2.0, 2.0, 2.0, 2.0, 2.0, 2.0, 2.0, 2.0, 2.0, 2.0, 2.0, 2.0, 2.0, 2.0, 2.0, 2.0, 2.0, 2.0, 2.0, 2.0, 2.0, 2.0, 2.0, 2.0, 2.0, 2.0, 2.0, 2.0, 2.0, 2.0, 2.0, 2.0, 2.0, 2.0, 2.0, 2.0, 2.0, 2.0, 1.0, 1.0, 1.0, 1.0]\n",
      "one-sample Chi-Square test statistic = 821.267; p-value = <0.01\n"
     ]
    }
   ],
   "source": [
    "# Statistically analyze consistency with Benford's law (first two digits)\n",
    "obs = df_exp['amount']\n",
    "\n",
    "#Create a list of the first two digits of the amounts\n",
    "def first_two_digits(num):\n",
    "    return int(str(num)[:2])\n",
    "obs = [first_two_digits(n) for n in obs]\n",
    "\n",
    "#Create a dictionary with the observed frequencies (counts)\n",
    "dict1 = {x: 0 for x in range(10, 100)}\n",
    "for num in obs:\n",
    "    dict1[num] += 1\n",
    "\n",
    "#Calculate the number of observations and assign it to a variable\n",
    "n = len(obs)\n",
    "\n",
    "#Create a dictionary with the expected frequencies (also rounded)\n",
    "dict2 = {x: n * math.log10(1+(1/x)) for x in range(10, 100)}\n",
    "dict3 = {x: round(n * math.log10(1+(1/x)), 0) for x in range(10, 100)}\n",
    "\n",
    "#Convert the dictionaries to lists\n",
    "obs = list(dict1.values())\n",
    "exp = list(dict2.values())\n",
    "exp_rounded = list(dict3.values())    ####\n",
    "x = list(dict2.keys())\n",
    "\n",
    "#Print the observed and expected frequencies\n",
    "print(obs)\n",
    "print(exp_rounded)\n",
    "\n",
    "#Test for differences using the one-sample Chi-Square test\n",
    "chi_sq = stats.chisquare(obs, f_exp=exp)\n",
    "chi_sq_stat = (chi_sq[0].round(3))\n",
    "chi_sq_pvalue = ((\"<0.01\" if chi_sq[1] < 0.01 else chi_sq[1].round(3)))\n",
    "print(f\"one-sample Chi-Square test statistic = {chi_sq_stat}; p-value = {chi_sq_pvalue}\")"
   ]
  },
  {
   "cell_type": "code",
   "execution_count": null,
   "metadata": {},
   "outputs": [
    {
     "data": {
      "image/png": "[encoded data removed]",
      "text/plain": [
       "<Figure size 432x288 with 1 Axes>"
      ]
     },
     "metadata": {
      "needs_background": "light"
     },
     "output_type": "display_data"
    }
   ],
   "source": [
    "# Graphically analyze consistency with Benford's law (first two digits)\n",
    "plt.plot(x, obs, c='r', marker= '.')\n",
    "plt.plot(x, exp, c='b', marker= '.')\n",
    "plt.ylim(0, 30)\n",
    "plt.xlabel('First two digits')\n",
    "plt.ylabel('Frequency')\n",
    "plt.title(\"Observed vs. expected frequencies (Benford's law)\")\n",
    "plt.show();"
   ]
  },
  {
   "cell_type": "markdown",
   "metadata": {},
   "source": [
    "Based on these analyses, one can conclude that the frequency distribution of the 'amount' variable is not consistent with Benford's law, when focussing on the first two digits of the values of this variable. The one-sample Chi-Square test indicates that the frequency distribution of the amounts is statistically significantly different from the frequency distribution that is consistent with Benford's law. The graph illustrates the difference, showing that the two distributions in particular deviate for values around 50. These findings may trigger a further investigation of these expenditures."
   ]
  },
  {
   "cell_type": "markdown",
   "metadata": {},
   "source": [
    "## Analyzing consistency with uniform distribution (last digit)"
   ]
  },
  {
   "cell_type": "markdown",
   "metadata": {},
   "source": [
    "Let's now analyze whether the frequency distribution of the 'amount' variable is consistent with a uniform distribution or not, when focussing on __the last digit__ of the values of this variable, both statistically and graphically."
   ]
  },
  {
   "cell_type": "code",
   "execution_count": 9,
   "metadata": {},
   "outputs": [
    {
     "name": "stdout",
     "output_type": "stream",
     "text": [
      "[37, 35, 35, 38, 29, 30, 27, 34, 36, 30]\n",
      "[33.1, 33.1, 33.1, 33.1, 33.1, 33.1, 33.1, 33.1, 33.1, 33.1]\n",
      "one-sample Chi-Square test statistic = 3.894; p-value = 0.918\n"
     ]
    }
   ],
   "source": [
    "# Statistically analyze consistency with uniform distribution (last digit)\n",
    "obs = df_exp['amount']\n",
    "\n",
    "#Create a list of the last digit of the amounts\n",
    "obs = [num % 10 for num in obs]\n",
    "\n",
    "#Create a dictionary with the observed frequencies (counts)\n",
    "dict1 = {x: 0 for x in range(0, 10)}\n",
    "for num in obs:\n",
    "    dict1[num] += 1\n",
    "\n",
    "#Calculate the number of observations and assign it to a variable\n",
    "n = len(obs)\n",
    "\n",
    "#Create a dictionary with the expected frequencies\n",
    "dict2 = {x: round(n * 0.1, 1) for x in range(0, 10)}\n",
    "\n",
    "#Convert the dictionaries to lists\n",
    "obs = list(dict1.values())\n",
    "exp = list(dict2.values())\n",
    "x = list(dict1.keys())\n",
    "\n",
    "#Print the observed and expected frequencies\n",
    "print(obs)\n",
    "print(exp)\n",
    "\n",
    "#Test for differences using the one-sample Chi-Square test\n",
    "chi_sq = stats.chisquare(obs, f_exp=exp)\n",
    "chi_sq_stat = (chi_sq[0].round(3))\n",
    "chi_sq_pvalue = ((\"<0.01\" if chi_sq[1] < 0.01 else chi_sq[1].round(3)))\n",
    "print(f\"one-sample Chi-Square test statistic = {chi_sq_stat}; p-value = {chi_sq_pvalue}\")"
   ]
  },
  {
   "cell_type": "code",
   "execution_count": null,
   "metadata": {},
   "outputs": [
    {
     "data": {
      "image/png": "[encoded data removed]",
      "text/plain": [
       "<Figure size 432x288 with 1 Axes>"
      ]
     },
     "metadata": {
      "needs_background": "light"
     },
     "output_type": "display_data"
    }
   ],
   "source": [
    "# Graphically analyze consistency with uniform distribution (last digit)\n",
    "plt.plot(x, obs, c='r', marker= '.')\n",
    "plt.plot(x, exp, c='b', marker= '.')\n",
    "plt.ylim(0, 40)\n",
    "plt.xlabel('Last digit')\n",
    "plt.ylabel('Frequency')\n",
    "plt.title(\"Observed vs. expected frequencies (uniform distribution)\")\n",
    "plt.show();"
   ]
  },
  {
   "cell_type": "markdown",
   "metadata": {},
   "source": [
    "Based on these analyses, one can conclude that the frequency distribution of the 'amount' variable is consistent with a uniform distribution, when focussing on the last digit of the values of this variable. The one-sample Chi-Square test indicates no statistically significant difference between the frequency distribution of the amounts and a uniform frequency distribution. The graph illustrates this further, by showing only small deviations between the two distributions."
   ]
  },
  {
   "cell_type": "code",
   "execution_count": null,
   "metadata": {},
   "outputs": [],
   "source": []
  }
 ],
 "metadata": {
  "kernelspec": {
   "display_name": "Python 3",
   "language": "python",
   "name": "python3"
  },
  "language_info": {
   "codemirror_mode": {
    "name": "ipython",
    "version": 3
   },
   "file_extension": ".py",
   "mimetype": "text/x-python",
   "name": "python",
   "nbconvert_exporter": "python",
   "pygments_lexer": "ipython3",
   "version": "3.7.1"
  }
 },
 "nbformat": 4,
 "nbformat_minor": 4
}
